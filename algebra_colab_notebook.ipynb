{
  "nbformat": 4,
  "nbformat_minor": 0,
  "metadata": {
    "colab": {
      "provenance": [],
      "toc_visible": true,
      "authorship_tag": "ABX9TyMxSXY5srn0ZrC45jsrjG5Z",
      "include_colab_link": true
    },
    "kernelspec": {
      "name": "python3",
      "display_name": "Python 3"
    },
    "language_info": {
      "name": "python"
    }
  },
  "cells": [
    {
      "cell_type": "markdown",
      "metadata": {
        "id": "view-in-github",
        "colab_type": "text"
      },
      "source": [
        "<a href=\"https://colab.research.google.com/github/Marcusreu1/math/blob/main/algebra_colab_notebook.ipynb\" target=\"_parent\"><img src=\"https://colab.research.google.com/assets/colab-badge.svg\" alt=\"Open In Colab\"/></a>"
      ]
    },
    {
      "cell_type": "markdown",
      "source": [
        "#Week 1"
      ],
      "metadata": {
        "id": "DQXj0bDBdh6e"
      }
    },
    {
      "cell_type": "code",
      "execution_count": null,
      "metadata": {
        "colab": {
          "base_uri": "https://localhost:8080/"
        },
        "id": "6k1ApShhWYmC",
        "outputId": "3f9e28f7-cc6a-4b03-8a9d-03d8a0d5a0c3"
      },
      "outputs": [
        {
          "output_type": "execute_result",
          "data": {
            "text/plain": [
              "18.0"
            ]
          },
          "metadata": {},
          "execution_count": 8
        }
      ],
      "source": [
        "def rule_of_three(a,b,c):\n",
        "  result=c*b/a\n",
        "  return result\n",
        "\n",
        "rule_of_three(8,16, 9)"
      ]
    },
    {
      "cell_type": "markdown",
      "source": [
        "\n",
        "![image.png](data:image/png;base64,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)"
      ],
      "metadata": {
        "id": "rA4DqYeRdkPE"
      }
    },
    {
      "cell_type": "code",
      "source": [
        "def rule_of_three_2(v1,n1,v2,n2):\n",
        "  if v1==0:\n",
        "    result=v2*n1/n2\n",
        "    print(\"v1 answer is\", result)\n",
        "\n",
        "  elif v2==0:\n",
        "    result=v1*n2/n1\n",
        "    print(\"v2 answer is\", result)\n",
        "\n",
        "  elif n1==0:\n",
        "    result=v1*n2/v2\n",
        "    print(\"n1 answer is\", result)\n",
        "\n",
        "  elif n2==0:\n",
        "    result=v2*n1/v1\n",
        "    print(\"n2 answer is\", result)\n",
        "\n",
        "\n",
        "rule_of_three_2(20,12, 0, 24)"
      ],
      "metadata": {
        "colab": {
          "base_uri": "https://localhost:8080/"
        },
        "id": "SrStbkmLaH1c",
        "outputId": "c4f3fe4d-4b95-47c9-bd79-0e7b301bc521"
      },
      "execution_count": null,
      "outputs": [
        {
          "output_type": "stream",
          "name": "stdout",
          "text": [
            "v2 answer is 40.0\n"
          ]
        }
      ]
    },
    {
      "cell_type": "code",
      "execution_count": null,
      "metadata": {
        "id": "cWodkgQDlKuV",
        "colab": {
          "base_uri": "https://localhost:8080/"
        },
        "outputId": "5ed0764b-8c61-4e4d-8562-2ce2f03772fb"
      },
      "outputs": [
        {
          "output_type": "stream",
          "name": "stdout",
          "text": [
            "x +  -2  =  19\n",
            "x = 21\n",
            "Correct! \n",
            "\n",
            "-8  + x =  12\n",
            "x = 20\n",
            "Correct! \n",
            "\n",
            "7 x =  22\n",
            "Round your answer to two decimal places.\n",
            "x = 22/7\n",
            "Try again\n",
            "The correct answer is  3.14 \n",
            "\n",
            "x/ 4  =  4\n",
            "x = 16\n",
            "Correct! \n",
            "\n",
            "6 x +  3  =  3\n",
            "Round answer to two decimal places\n",
            "x = 3/6\n",
            "Try again\n",
            "The correct answer is  0.0 \n",
            "\n",
            " \n",
            "x +  0  =  23\n",
            "x = 23\n",
            "Correct! \n",
            "\n",
            "-15  + x =  22\n",
            "x = 37\n",
            "Correct! \n",
            "\n",
            "5 x =  22\n",
            "Round your answer to two decimal places.\n",
            "x = 22/5\n",
            "Correct! \n",
            "\n",
            "x/ 10  =  16\n",
            "x = 160\n",
            "Correct! \n",
            "\n",
            "9 x +  -4  =  32\n",
            "Round answer to two decimal places\n",
            "x = 36/9\n",
            "Correct! \n",
            "\n",
            " \n",
            "1 x +  4  =  11\n",
            "Round answer to two decimal places\n",
            "x = 7/1\n",
            "Correct! \n",
            "\n",
            "2 x +  -5  =  35\n",
            "Round answer to two decimal places\n",
            "x = 40/2\n",
            "Correct! \n",
            "\n"
          ]
        }
      ],
      "source": [
        "# converts string input (even fractions) to float\n",
        "def string_frac(in_string):\n",
        "    if \"/\" in in_string:\n",
        "        nd = in_string.split(\"/\")\n",
        "        n = float(nd[0])\n",
        "        d = float(nd[1])\n",
        "        ans = n/d\n",
        "        return ans\n",
        "    else:\n",
        "        ans = float(in_string)\n",
        "        return ans\n",
        "\n",
        "\n",
        "# Simplest one-step addition\n",
        "def one_step_add():\n",
        "    import random\n",
        "    # Display problem\n",
        "    a = random.randint(-4,10)\n",
        "    b = random.randint(2,24)\n",
        "    print(\"x + \", a, \" = \", b)\n",
        "    ans = float(input(\"x = \"))\n",
        "    answer = b-a\n",
        "    # Test input\n",
        "    if ans==answer:\n",
        "        print(\"Correct! \\n\")\n",
        "    else:\n",
        "        print(\"Try again\")\n",
        "        print(\"The correct answer is \", answer, \"\\n\")\n",
        "\n",
        "\n",
        "# One-step additon with negaive numbers\n",
        "def one_step_subtract():\n",
        "    import random\n",
        "    a = random.randint(-19,-1)\n",
        "    b = random.randint(2,24)\n",
        "    print(a, \" + x = \", b)\n",
        "    ans = float(input(\"x = \"))\n",
        "    # test\n",
        "    answer = b-a\n",
        "    if ans==answer:\n",
        "        print(\"Correct! \\n\")\n",
        "    else:\n",
        "        print(\"Try again\")\n",
        "        print(\"The correct answer is \", answer, \"\\n\")\n",
        "\n",
        "# One-step multiply\n",
        "def one_step_mult():\n",
        "    # Uses string_frac(<input string>)\n",
        "    import random\n",
        "    a = random.randint(1,11)\n",
        "    b = random.randint(2,24)\n",
        "    print(a, \"x = \", b)\n",
        "    print(\"Round your answer to two decimal places.\")\n",
        "    ans_in = (input(\"x = \"))\n",
        "    answer = round(b/a,2)\n",
        "    # test\n",
        "    if string_frac(ans_in)==answer:\n",
        "        print(\"Correct! \\n\")\n",
        "    else:\n",
        "        print(\"Try again\")\n",
        "        print(\"The correct answer is \", answer, \"\\n\")\n",
        "\n",
        "\n",
        "# One-step divide\n",
        "def one_step_div():\n",
        "    import random\n",
        "    a = random.randint(1,11)\n",
        "    b = random.randint(2,24)\n",
        "    print(\"x/\", a, \" = \", b)\n",
        "    ans = float(input(\"x = \"))\n",
        "    answer = b*a\n",
        "    # test\n",
        "    if ans==answer:\n",
        "        print(\"Correct! \\n\")\n",
        "    else:\n",
        "        print(\"Try again\")\n",
        "        print(\"The correct answer is \", answer, \"\\n\")\n",
        "\n",
        "\n",
        "# Two-step problems\n",
        "def two_step():\n",
        "    import random\n",
        "    # Uses string_frac()\n",
        "    a = random.randint(1,11)\n",
        "    b = random.randint(-7,12)\n",
        "    c = random.randint(2,36)\n",
        "    print(a, \"x + \", b, \" = \", c)\n",
        "    print(\"Round answer to two decimal places\")\n",
        "    ans_in = input(\"x = \")\n",
        "    answer = (c-b)/a\n",
        "    # test\n",
        "    if round(string_frac(ans_in),2)==round(answer,2):\n",
        "        print(\"Correct! \\n\")\n",
        "    else:\n",
        "        print(\"Try again\")\n",
        "        print(\"The correct answer is \", answer, \"\\n\")\n",
        "\n",
        "\n",
        "# test loop\n",
        "for a in range(2):\n",
        "    one_step_add()\n",
        "    one_step_subtract()\n",
        "    one_step_mult()\n",
        "    one_step_div()\n",
        "    two_step()\n",
        "    print(\" \")\n",
        "\n",
        "two_step()\n",
        "two_step()\n"
      ]
    },
    {
      "cell_type": "markdown",
      "source": [
        "#week 2"
      ],
      "metadata": {
        "id": "7dB4Di60Vc5t"
      }
    },
    {
      "cell_type": "code",
      "execution_count": null,
      "metadata": {
        "colab": {
          "base_uri": "https://localhost:8080/"
        },
        "id": "QNr0NyPuVKuA",
        "outputId": "b83d07a4-79f7-4dff-812e-d0e3bbe6b123"
      },
      "outputs": [
        {
          "output_type": "stream",
          "name": "stdout",
          "text": [
            "x =  [2]\n"
          ]
        }
      ],
      "source": [
        "import sympy\n",
        "from sympy import symbols\n",
        "from sympy.solvers import solve\n",
        "\n",
        "x = symbols('x')\n",
        "\n",
        "# Put the equation here\n",
        "eq = 2*x - 4\n",
        "\n",
        "print(\"x = \", solve(eq,x))\n"
      ]
    },
    {
      "cell_type": "code",
      "source": [
        "import sympy\n",
        "from sympy import symbols\n",
        "from sympy.solvers import solve\n",
        "\n",
        "x = symbols('x')\n",
        "eq = input('Enter equation: 0 = ')\n",
        "\n",
        "print(\"x = \", solve(eq,x))\n"
      ],
      "metadata": {
        "id": "Hbri3pi4E_0t",
        "colab": {
          "base_uri": "https://localhost:8080/"
        },
        "outputId": "836e61f2-8301-4dfa-b30c-c43ebe52e2f1"
      },
      "execution_count": null,
      "outputs": [
        {
          "output_type": "stream",
          "name": "stdout",
          "text": [
            "Enter equation: 0 = -3 + 4 + x\n",
            "x =  [-1]\n"
          ]
        }
      ]
    },
    {
      "cell_type": "code",
      "source": [
        "import sympy\n",
        "from sympy import symbols\n",
        "from sympy.solvers import solve\n",
        "\n",
        "x = symbols('x')\n",
        "\n",
        "# Put the equation here\n",
        "eq = 2*x - 4\n",
        "\n",
        "solution = solve(eq,x)\n",
        "print(\"x = \", solution[0])"
      ],
      "metadata": {
        "id": "7AKDuplzBLs8",
        "colab": {
          "base_uri": "https://localhost:8080/"
        },
        "outputId": "48ec0d09-e5bc-483e-d9a2-af5d6342d4da"
      },
      "execution_count": null,
      "outputs": [
        {
          "output_type": "stream",
          "name": "stdout",
          "text": [
            "x =  2\n"
          ]
        }
      ]
    },
    {
      "cell_type": "code",
      "source": [
        "import sympy\n",
        "from sympy import symbols\n",
        "from sympy.solvers import solve\n",
        "\n",
        "x = symbols('x')\n",
        "\n",
        "eq = input('Enter equation: 0 = ')\n",
        "\n",
        "solution = solve(eq,x)\n",
        "for s in solution:\n",
        "    print(\"x = \", s)\n",
        "\n",
        "\n"
      ],
      "metadata": {
        "id": "JAvk-AYdFj0k",
        "colab": {
          "base_uri": "https://localhost:8080/"
        },
        "outputId": "97a79ccb-f9e5-4060-87a4-1b407364969a"
      },
      "execution_count": null,
      "outputs": [
        {
          "output_type": "stream",
          "name": "stdout",
          "text": [
            "Enter equation: 0 = 3 - x\n",
            "x =  3\n"
          ]
        }
      ]
    },
    {
      "cell_type": "code",
      "source": [
        "from sympy import *\n",
        "\n",
        "\n",
        "var('x y')\n",
        "\n",
        "# First equation set equal to zero, ready to solve\n",
        "first = 2*x - y\n",
        "\n",
        "\n",
        "# Sympy syntax for equation equal to zero, ready to factor\n",
        "eq1 = Eq(first,0)\n",
        "\n",
        "# Sympy solve for x\n",
        "sol = solve(eq1,x)\n",
        "\n",
        "# Show factored results\n",
        "print(\"x = \", sol[0])\n",
        "\n"
      ],
      "metadata": {
        "id": "aYJgodznDAh9",
        "colab": {
          "base_uri": "https://localhost:8080/"
        },
        "outputId": "07fc9265-d38e-4f85-9e81-777453e68849"
      },
      "execution_count": null,
      "outputs": [
        {
          "output_type": "stream",
          "name": "stdout",
          "text": [
            "x =  y/2\n"
          ]
        }
      ]
    },
    {
      "cell_type": "code",
      "source": [
        "import sympy\n",
        "from sympy import *\n",
        "\n",
        "var('x y')\n",
        "\n",
        "# Equation set equal to zero, ready to solve\n",
        "#eq = x**2-4\n",
        "eq = x**3 - 2*x**2 - 5*x + 6\n",
        "\n",
        "sympy.factor(eq)\n"
      ],
      "metadata": {
        "id": "2JjZ1cPNPqe8",
        "colab": {
          "base_uri": "https://localhost:8080/",
          "height": 38
        },
        "outputId": "eb062d70-9657-4916-ae7b-0a8949e2cbba"
      },
      "execution_count": null,
      "outputs": [
        {
          "output_type": "execute_result",
          "data": {
            "text/plain": [
              "(x - 3)*(x - 1)*(x + 2)"
            ],
            "text/latex": "$\\displaystyle \\left(x - 3\\right) \\left(x - 1\\right) \\left(x + 2\\right)$"
          },
          "metadata": {},
          "execution_count": 8
        }
      ]
    },
    {
      "cell_type": "code",
      "source": [
        "# converts string input (including fractions) to float\n",
        "def string_frac(in_string):\n",
        "    if \"/\" in in_string:\n",
        "        nd = in_string.split(\"/\")\n",
        "        n = float(nd[0])\n",
        "        d = float(nd[1])\n",
        "        ans = n/d\n",
        "        return ans\n",
        "    else:\n",
        "        ans = float(in_string)\n",
        "        return ans\n",
        "\n",
        "\n",
        "# Simplest one-step addition\n",
        "def one_step_add():\n",
        "    import random\n",
        "    # Display problem\n",
        "    a = random.randint(-4,10)\n",
        "    b = random.randint(2,24)\n",
        "    print(\"x + \", a, \" = \", b)\n",
        "    ans = float(input(\"x = \"))\n",
        "    answer = b-a\n",
        "    # Test input\n",
        "    if ans==answer:\n",
        "        print(\"Correct! \\n\")\n",
        "    else:\n",
        "        print(\"Try again\")\n",
        "        print(\"The correct answer is \", answer, \"\\n\")\n",
        "\n",
        "\n",
        "# One-step additon with negaive numbers\n",
        "def one_step_subtract():\n",
        "    import random\n",
        "    a = random.randint(-19,-1)\n",
        "    b = random.randint(2,24)\n",
        "    print(a, \" + x = \", b)\n",
        "    ans = float(input(\"x = \"))\n",
        "    # test\n",
        "    answer = b-a\n",
        "    if ans==answer:\n",
        "        print(\"Correct! \\n\")\n",
        "    else:\n",
        "        print(\"Try again\")\n",
        "        print(\"The correct answer is \", answer, \"\\n\")\n",
        "\n",
        "# One-step multiply\n",
        "def one_step_mult():\n",
        "    # Uses string_frac(<input string>)\n",
        "    import random\n",
        "    a = random.randint(1,11)\n",
        "    b = random.randint(2,24)\n",
        "    print(a, \"x = \", b)\n",
        "    ans_in = (input(\"x = \"))\n",
        "    answer = b/a\n",
        "    # test\n",
        "    if string_frac(ans_in)==answer:\n",
        "        print(\"Correct! \\n\")\n",
        "    else:\n",
        "        print(\"Try again\")\n",
        "        print(\"The correct answer is \", answer, \"\\n\")\n",
        "\n"
      ],
      "metadata": {
        "id": "EDb4C13-Avt9"
      },
      "execution_count": null,
      "outputs": []
    },
    {
      "cell_type": "code",
      "source": [
        "print(3/4)\n"
      ],
      "metadata": {
        "id": "b2kw4OFGLzaE",
        "colab": {
          "base_uri": "https://localhost:8080/"
        },
        "outputId": "f5f146d8-3393-4b36-a0ae-cbcfaaa9ed0f"
      },
      "execution_count": null,
      "outputs": [
        {
          "output_type": "stream",
          "name": "stdout",
          "text": [
            "0.75\n"
          ]
        }
      ]
    },
    {
      "cell_type": "code",
      "source": [
        "frac = float(input(\"fraction = \"))\n",
        "print(frac)\n"
      ],
      "metadata": {
        "id": "gMUhKFIWL4Iz",
        "colab": {
          "base_uri": "https://localhost:8080/"
        },
        "outputId": "62f92cd8-deae-4fea-9e26-3e8236d03234"
      },
      "execution_count": null,
      "outputs": [
        {
          "output_type": "stream",
          "name": "stdout",
          "text": [
            "fraction = 0.75\n",
            "0.75\n"
          ]
        }
      ]
    },
    {
      "cell_type": "code",
      "execution_count": null,
      "metadata": {
        "colab": {
          "base_uri": "https://localhost:8080/"
        },
        "outputId": "38eb61b9-641b-4e47-a9e0-96dfb3787322",
        "id": "4Mx9WNHKoi--"
      },
      "outputs": [
        {
          "output_type": "stream",
          "name": "stdout",
          "text": [
            "x +  8  =  16\n",
            "x = 8\n",
            "Correct! \n",
            "\n",
            "-2  + x =  19\n",
            "x = 21\n",
            "Correct! \n",
            "\n",
            "6 x =  7\n",
            "Round your answer to two decimal places.\n",
            "x = 7/6\n",
            "Try again\n",
            "The correct answer is  1.17 \n",
            "\n",
            "x/ 8  =  22\n",
            "x = 176\n",
            "Correct! \n",
            "\n",
            "4 x +  12  =  27\n",
            "Round answer to two decimal places\n",
            "x = 15/4\n",
            "Correct! \n",
            "\n",
            " \n",
            "x +  -4  =  20\n",
            "x = 24\n",
            "Correct! \n",
            "\n",
            "-18  + x =  14\n",
            "x = 32\n",
            "Correct! \n",
            "\n",
            "9 x =  8\n",
            "Round your answer to two decimal places.\n",
            "x = 8/9\n",
            "Try again\n",
            "The correct answer is  0.89 \n",
            "\n",
            "x/ 1  =  10\n",
            "x = 10\n",
            "Correct! \n",
            "\n",
            "6 x +  4  =  20\n",
            "Round answer to two decimal places\n",
            "x = 16/6\n",
            "Correct! \n",
            "\n",
            " \n",
            "8 x +  9  =  11\n",
            "Round answer to two decimal places\n",
            "x = 2/8\n",
            "Correct! \n",
            "\n",
            "3 x +  -7  =  16\n",
            "Round answer to two decimal places\n",
            "x = 23/3\n",
            "Correct! \n",
            "\n"
          ]
        }
      ],
      "source": [
        "# converts string input (even fractions) to float\n",
        "def string_frac(in_string):\n",
        "    if \"/\" in in_string:\n",
        "        nd = in_string.split(\"/\")\n",
        "        n = float(nd[0])\n",
        "        d = float(nd[1])\n",
        "        ans = n/d\n",
        "        return ans\n",
        "    else:\n",
        "        ans = float(in_string)\n",
        "        return ans\n",
        "\n",
        "\n",
        "# Simplest one-step addition\n",
        "def one_step_add():\n",
        "    import random\n",
        "    # Display problem\n",
        "    a = random.randint(-4,10)\n",
        "    b = random.randint(2,24)\n",
        "    print(\"x + \", a, \" = \", b)\n",
        "    ans = float(input(\"x = \"))\n",
        "    answer = b-a\n",
        "    # Test input\n",
        "    if ans==answer:\n",
        "        print(\"Correct! \\n\")\n",
        "    else:\n",
        "        print(\"Try again\")\n",
        "        print(\"The correct answer is \", answer, \"\\n\")\n",
        "\n",
        "\n",
        "# One-step additon with negaive numbers\n",
        "def one_step_subtract():\n",
        "    import random\n",
        "    a = random.randint(-19,-1)\n",
        "    b = random.randint(2,24)\n",
        "    print(a, \" + x = \", b)\n",
        "    ans = float(input(\"x = \"))\n",
        "    # test\n",
        "    answer = b-a\n",
        "    if ans==answer:\n",
        "        print(\"Correct! \\n\")\n",
        "    else:\n",
        "        print(\"Try again\")\n",
        "        print(\"The correct answer is \", answer, \"\\n\")\n",
        "\n",
        "# One-step multiply\n",
        "def one_step_mult():\n",
        "    # Uses string_frac(<input string>)\n",
        "    import random\n",
        "    a = random.randint(1,11)\n",
        "    b = random.randint(2,24)\n",
        "    print(a, \"x = \", b)\n",
        "    print(\"Round your answer to two decimal places.\")\n",
        "    ans_in = (input(\"x = \"))\n",
        "    answer = round(b/a,2)\n",
        "    # test\n",
        "    if string_frac(ans_in)==answer:\n",
        "        print(\"Correct! \\n\")\n",
        "    else:\n",
        "        print(\"Try again\")\n",
        "        print(\"The correct answer is \", answer, \"\\n\")\n",
        "\n",
        "\n",
        "# One-step divide\n",
        "def one_step_div():\n",
        "    import random\n",
        "    a = random.randint(1,11)\n",
        "    b = random.randint(2,24)\n",
        "    print(\"x/\", a, \" = \", b)\n",
        "    ans = float(input(\"x = \"))\n",
        "    answer = b*a\n",
        "    # test\n",
        "    if ans==answer:\n",
        "        print(\"Correct! \\n\")\n",
        "    else:\n",
        "        print(\"Try again\")\n",
        "        print(\"The correct answer is \", answer, \"\\n\")\n",
        "\n",
        "\n",
        "# Two-step problems\n",
        "def two_step():\n",
        "    import random\n",
        "    # Uses string_frac()\n",
        "    a = random.randint(1,11)\n",
        "    b = random.randint(-7,12)\n",
        "    c = random.randint(2,36)\n",
        "    print(a, \"x + \", b, \" = \", c)\n",
        "    print(\"Round answer to two decimal places\")\n",
        "    ans_in = input(\"x = \")\n",
        "    answer = (c-b)/a\n",
        "    # test\n",
        "    if round(string_frac(ans_in),2)==round(answer,2):\n",
        "        print(\"Correct! \\n\")\n",
        "    else:\n",
        "        print(\"Try again\")\n",
        "        print(\"The correct answer is \", answer, \"\\n\")\n",
        "\n",
        "\n",
        "# test loop\n",
        "for a in range(2):\n",
        "    one_step_add()\n",
        "    one_step_subtract()\n",
        "    one_step_mult()\n",
        "    one_step_div()\n",
        "    two_step()\n",
        "    print(\" \")\n",
        "\n",
        "two_step()\n",
        "two_step()\n"
      ]
    },
    {
      "cell_type": "markdown",
      "source": [
        "#week 3"
      ],
      "metadata": {
        "id": "XJqV5a0RolQr"
      }
    },
    {
      "cell_type": "code",
      "source": [
        "print(10**1)\n",
        "print(10**2)\n",
        "print(10**3)\n",
        "\n",
        "print(10**0)\n",
        "\n",
        "print(10**-1)\n",
        "print(10**-2)\n",
        "print(10**-3)\n"
      ],
      "metadata": {
        "id": "NkMTAVF0BlqE",
        "colab": {
          "base_uri": "https://localhost:8080/"
        },
        "outputId": "9ad0555b-b96f-419f-d6a5-dd9063aac857"
      },
      "execution_count": null,
      "outputs": [
        {
          "output_type": "stream",
          "name": "stdout",
          "text": [
            "10\n",
            "100\n",
            "1000\n",
            "1\n",
            "0.1\n",
            "0.01\n",
            "0.001\n"
          ]
        }
      ]
    },
    {
      "cell_type": "code",
      "source": [
        "text = input(\"Enter a number\")\n",
        "print(text)\n",
        "\n",
        "print(len(text))\n",
        "\n",
        "# error - can't do math here\n",
        "# print(text+3)\n"
      ],
      "metadata": {
        "id": "pzYatQcjCWhp",
        "colab": {
          "base_uri": "https://localhost:8080/"
        },
        "outputId": "8695010a-dd21-4160-f4b8-a8ff2314f3a2"
      },
      "execution_count": null,
      "outputs": [
        {
          "output_type": "stream",
          "name": "stdout",
          "text": [
            "Enter a number.123\n",
            ".123\n",
            "4\n"
          ]
        }
      ]
    },
    {
      "cell_type": "code",
      "source": [
        "text = input(\"Enter a number\")\n",
        "num = float(text)\n",
        "print(num + 4)\n"
      ],
      "metadata": {
        "id": "8mtkOWLXDPZK",
        "colab": {
          "base_uri": "https://localhost:8080/"
        },
        "outputId": "4a632d26-51bd-44ff-f1b0-4d9de8c03b09"
      },
      "execution_count": null,
      "outputs": [
        {
          "output_type": "stream",
          "name": "stdout",
          "text": [
            "Enter a number.123\n",
            "4.123\n"
          ]
        }
      ]
    },
    {
      "cell_type": "code",
      "execution_count": null,
      "metadata": {
        "id": "pDaZckUyBKRl",
        "colab": {
          "base_uri": "https://localhost:8080/"
        },
        "outputId": "4f179500-e52a-49cc-ce57-3c345ce8f581"
      },
      "outputs": [
        {
          "output_type": "stream",
          "name": "stdout",
          "text": [
            "Enter a decimal number to convert: .2\n",
            "The decimal is  0.2\n",
            "The fraction is  2 / 10\n",
            "The percent is  20.0  %\n"
          ]
        }
      ],
      "source": [
        "\n",
        "# Get string input, which will include a decimal point\n",
        "digits = input(\"Enter a decimal number to convert: \")\n",
        "\n",
        "# Get number of decimal places as an integer\n",
        "exponent = int(len(digits))-1\n",
        "\n",
        "# Convert the input to a float number\n",
        "n = float(digits)\n",
        "\n",
        "# Use the exponent to get the numerator\n",
        "numerator = int(n * 10**exponent)\n",
        "\n",
        "# Use the expoent to get the denominator\n",
        "denominator = 10**exponent\n",
        "\n",
        "# percent is the first two decimal places\n",
        "percent = n * 100\n",
        "\n",
        "# Output\n",
        "print(\"The decimal is \", n)\n",
        "print(\"The fraction is \", numerator, \"/\", denominator)\n",
        "print(\"The percent is \", percent, \" %\")\n",
        "\n"
      ]
    },
    {
      "cell_type": "code",
      "execution_count": null,
      "metadata": {
        "id": "tbyFnUTI6PD2",
        "colab": {
          "base_uri": "https://localhost:8080/"
        },
        "outputId": "11698307-853d-4101-8d56-f89b64e11b89"
      },
      "outputs": [
        {
          "output_type": "stream",
          "name": "stdout",
          "text": [
            "Convert the following decimal to a fraction\n",
            "Just use the / to write your fraction\n",
            "0.44\n",
            "Fraction: 2/5\n",
            "Try again\n",
            "The answer is  440.0 / 1000\n",
            "Convert the following fraction to a percent\n",
            "16 / 82\n",
            "Round your answer to two decimal places\n",
            "Percent: 19.51\n",
            "Correct!\n",
            " \n",
            "Convert the following decimal to a fraction\n",
            "Just use the / to write your fraction\n",
            "0.107\n",
            "Fraction: 1070/10000\n",
            "Correct! \n",
            "\n",
            "Convert the following fraction to a percent\n",
            "94 / 32\n",
            "Round your answer to two decimal places\n",
            "Percent: 293.75\n",
            "Correct!\n",
            " \n",
            "Convert the following decimal to a fraction\n",
            "Just use the / to write your fraction\n",
            "0.2\n",
            "Fraction: 1/5\n",
            "Correct! \n",
            "\n",
            "Convert the following fraction to a percent\n",
            "61 / 196\n",
            "Round your answer to two decimal places\n",
            "Percent: 31.12\n",
            "Correct!\n",
            " \n"
          ]
        }
      ],
      "source": [
        "# converts string input (even fractions) to float\n",
        "def string_frac(in_string):\n",
        "    if \"/\" in in_string:\n",
        "        nd = in_string.split(\"/\")\n",
        "        n = float(nd[0])\n",
        "        d = float(nd[1])\n",
        "        ans = n/d\n",
        "        return ans\n",
        "    else:\n",
        "        ans = float(in_string)\n",
        "        return ans\n",
        "\n",
        "\n",
        "# Decimal to fraction\n",
        "def dec_to_frac_test():\n",
        "    import random\n",
        "    import math\n",
        "    # Uses string_frac()\n",
        "    print(\"Convert the following decimal to a fraction\")\n",
        "    print(\"Just use the / to write your fraction\")\n",
        "    places = random.randint(1,4)\n",
        "    decimal = round(random.random(), places)\n",
        "    print(decimal)\n",
        "    d = 10**places\n",
        "    n = decimal*d\n",
        "    ans_in = input(\"Fraction: \")\n",
        "    if string_frac(ans_in)==decimal:\n",
        "        print(\"Correct! \\n\")\n",
        "    else:\n",
        "        print(\"Try again\")\n",
        "        print(\"The answer is \", n, \"/\", d)\n",
        "\n",
        "\n",
        "# Fraction to percent\n",
        "def frac_to_perc_test():\n",
        "    import random\n",
        "    print(\"Convert the following fraction to a percent\")\n",
        "    n = round(random.randint(1,99))\n",
        "    d = round(random.randint(2,200))\n",
        "    print(n, \"/\", d)\n",
        "    percent = round(n/d*100,2)\n",
        "    print(\"Round your answer to two decimal places\")\n",
        "    ans = float(input(\"Percent: \"))\n",
        "    if ans==percent:\n",
        "        print(\"Correct!\")\n",
        "    else:\n",
        "        print(\"Try again\")\n",
        "        print(\"The answer is \", percent)\n",
        "\n",
        "\n",
        "# test loop\n",
        "for a in range(3):\n",
        "    dec_to_frac_test()\n",
        "    frac_to_perc_test()\n",
        "    print(\" \")\n"
      ]
    },
    {
      "cell_type": "markdown",
      "source": [
        "#week 4"
      ],
      "metadata": {
        "id": "zlfP5xa5oepU"
      }
    },
    {
      "cell_type": "code",
      "source": [
        "x = 5\n",
        "y = 4*x + 3 # The function\n",
        "\n",
        "print(x,\",\",y)\n",
        "\n",
        "print(\"x \\t y\")\n",
        "\n",
        "for x in range(11):\n",
        "    y = 4*x + 3  # The function\n",
        "    print(x, \"\\t\", y)\n",
        "\n"
      ],
      "metadata": {
        "id": "CgYgZ_bX6V24"
      },
      "execution_count": null,
      "outputs": []
    },
    {
      "cell_type": "code",
      "source": [
        "def f(x):\n",
        "   y = 4*x + 3\n",
        "   return y\n",
        "\n",
        "print(5, \",\", f(5))\n",
        "\n",
        "# Next, a loop\n",
        "for x in range(11):\n",
        "    print(x, \"\\t\", f(x))"
      ],
      "metadata": {
        "id": "pimaql3Wsnkz",
        "colab": {
          "base_uri": "https://localhost:8080/"
        },
        "outputId": "a70e089f-eccb-4384-8794-ab59c8854867"
      },
      "execution_count": null,
      "outputs": [
        {
          "output_type": "stream",
          "name": "stdout",
          "text": [
            "5 , 23\n",
            "0 \t 3\n",
            "1 \t 7\n",
            "2 \t 11\n",
            "3 \t 15\n",
            "4 \t 19\n",
            "5 \t 23\n",
            "6 \t 27\n",
            "7 \t 31\n",
            "8 \t 35\n",
            "9 \t 39\n",
            "10 \t 43\n"
          ]
        }
      ]
    },
    {
      "cell_type": "code",
      "source": [
        "import matplotlib.pyplot as plt\n",
        "\n",
        "fig,ax=plt.subplots()\n",
        "plt.show()"
      ],
      "metadata": {
        "colab": {
          "base_uri": "https://localhost:8080/",
          "height": 435
        },
        "id": "XnrRLaXGyyN1",
        "outputId": "7b22f51b-8e5c-454e-f469-51fd9c61f406"
      },
      "execution_count": null,
      "outputs": [
        {
          "output_type": "display_data",
          "data": {
            "text/plain": [
              "<Figure size 640x480 with 1 Axes>"
            ],
            "image/png": "[encoded data removed]"
          },
          "metadata": {}
        }
      ]
    },
    {
      "cell_type": "code",
      "source": [
        "import matplotlib.pyplot as plt\n",
        "\n",
        "fig, ax = plt.subplots()\n",
        "\n",
        "# Dimensions\n",
        "plt.axis([-10,10,-10,10])\n",
        "\n",
        "plt.show()\n"
      ],
      "metadata": {
        "id": "b__2RYX3qEI2",
        "colab": {
          "base_uri": "https://localhost:8080/",
          "height": 269
        },
        "outputId": "d09e189c-424d-42a8-d092-ded507507098"
      },
      "execution_count": null,
      "outputs": [
        {
          "output_type": "display_data",
          "data": {
            "text/plain": [
              "<Figure size 432x288 with 1 Axes>"
            ],
            "image/png": "[encoded data removed]"
          },
          "metadata": {
            "needs_background": "light"
          }
        }
      ]
    },
    {
      "cell_type": "code",
      "source": [
        "import matplotlib.pyplot as plt\n",
        "\n",
        "xmin = -10\n",
        "xmax = 10\n",
        "ymin = -10\n",
        "ymax = 20\n",
        "\n",
        "fig, ax = plt.subplots()\n",
        "plt.axis([xmin,xmax,ymin,ymax]) # window size\n",
        "plt.show()\n"
      ],
      "metadata": {
        "id": "J_V3UffyqaS6",
        "colab": {
          "base_uri": "https://localhost:8080/",
          "height": 269
        },
        "outputId": "401b0e70-6578-4a95-b53e-ec0bce578599"
      },
      "execution_count": null,
      "outputs": [
        {
          "output_type": "display_data",
          "data": {
            "text/plain": [
              "<Figure size 432x288 with 1 Axes>"
            ],
            "image/png": "[encoded data removed]"
          },
          "metadata": {
            "needs_background": "light"
          }
        }
      ]
    },
    {
      "cell_type": "code",
      "source": [
        "import matplotlib.pyplot as plt\n",
        "\n",
        "xmin = -10\n",
        "xmax = 10\n",
        "ymin = -10\n",
        "ymax = 10\n",
        "\n",
        "fig, ax = plt.subplots()\n",
        "plt.axis([xmin,xmax,ymin,ymax]) # window size\n",
        "plt.plot([xmin,xmax],[0,0],'b') # blue x axis\n",
        "plt.plot([0,0],[ymin,ymax], 'b') # blue y axis\n",
        "\n",
        "plt.show()\n"
      ],
      "metadata": {
        "id": "QRUF6vE1qn7Z",
        "colab": {
          "base_uri": "https://localhost:8080/",
          "height": 269
        },
        "outputId": "fbaf4506-cbc9-462f-ab10-5e581e0317c0"
      },
      "execution_count": null,
      "outputs": [
        {
          "output_type": "display_data",
          "data": {
            "text/plain": [
              "<Figure size 432x288 with 1 Axes>"
            ],
            "image/png": "[encoded data removed]"
          },
          "metadata": {
            "needs_background": "light"
          }
        }
      ]
    },
    {
      "cell_type": "code",
      "source": [
        "import matplotlib.pyplot as plt\n",
        "\n",
        "xmin = -10\n",
        "xmax = 10\n",
        "ymin = -10\n",
        "ymax = 10\n",
        "\n",
        "fig, ax = plt.subplots()\n",
        "plt.axis([xmin,xmax,ymin,ymax]) # window size\n",
        "plt.plot([xmin,xmax],[0,0],'b') # blue x axis\n",
        "plt.plot([0,0],[ymin,ymax], 'b') # blue y axis\n",
        "\n",
        "\n",
        "plt.plot([5],[4], 'ro')\n",
        "\n",
        "plt.show()\n"
      ],
      "metadata": {
        "id": "3wBcQwCYq5bp",
        "colab": {
          "base_uri": "https://localhost:8080/",
          "height": 269
        },
        "outputId": "51d1ab83-ba40-45c7-91fd-9daa4570a7d1"
      },
      "execution_count": null,
      "outputs": [
        {
          "output_type": "display_data",
          "data": {
            "text/plain": [
              "<Figure size 432x288 with 1 Axes>"
            ],
            "image/png": "[encoded data removed]"
          },
          "metadata": {
            "needs_background": "light"
          }
        }
      ]
    },
    {
      "cell_type": "code",
      "source": [
        "import matplotlib.pyplot as plt\n",
        "\n",
        "xmin = -10\n",
        "xmax = 10\n",
        "ymin = -10\n",
        "ymax = 10\n",
        "\n",
        "fig, ax = plt.subplots()\n",
        "plt.axis([xmin,xmax,ymin,ymax]) # window size\n",
        "plt.plot([xmin,xmax],[0,0],'b') # blue x axis\n",
        "plt.plot([0,0],[ymin,ymax], 'b') # blue y axis\n",
        "\n",
        "for x in range(10):\n",
        "    y = 0.5*x + 1\n",
        "    plt.plot([x],[y], 'ro')\n",
        "\n",
        "plt.show()\n"
      ],
      "metadata": {
        "colab": {
          "base_uri": "https://localhost:8080/",
          "height": 269
        },
        "id": "Xt1z3DcUrCR5",
        "outputId": "f118ca3e-03da-43bf-dfb1-4272c7cf0af2"
      },
      "execution_count": null,
      "outputs": [
        {
          "output_type": "display_data",
          "data": {
            "text/plain": [
              "<Figure size 432x288 with 1 Axes>"
            ],
            "image/png": "[encoded data removed]"
          },
          "metadata": {
            "needs_background": "light"
          }
        }
      ]
    },
    {
      "cell_type": "code",
      "source": [
        "import matplotlib.pyplot as plt\n",
        "\n",
        "xmin = -10\n",
        "xmax = 10\n",
        "ymin = -10\n",
        "ymax = 10\n",
        "\n",
        "fig, ax = plt.subplots()\n",
        "plt.axis([xmin,xmax,ymin,ymax]) # window size\n",
        "plt.plot([xmin,xmax],[0,0],'b') # blue x axis\n",
        "plt.plot([0,0],[ymin,ymax], 'b') # blue y axis\n",
        "\n",
        "print(\"x \\t y\")\n",
        "for x in range(xmin, xmax+1):\n",
        "    y = 0.5*x + 1\n",
        "    plt.plot([x],[y], 'ro')\n",
        "    print(x,\"\\t\",y)\n",
        "\n",
        "plt.show()\n"
      ],
      "metadata": {
        "id": "wyhHcBr2sTqb",
        "colab": {
          "base_uri": "https://localhost:8080/",
          "height": 817
        },
        "outputId": "5c30bbc1-666d-4cd9-df3f-c8d3a3ba48d7"
      },
      "execution_count": null,
      "outputs": [
        {
          "output_type": "stream",
          "name": "stdout",
          "text": [
            "x \t y\n",
            "-10 \t -4.0\n",
            "-9 \t -3.5\n",
            "-8 \t -3.0\n",
            "-7 \t -2.5\n",
            "-6 \t -2.0\n",
            "-5 \t -1.5\n",
            "-4 \t -1.0\n",
            "-3 \t -0.5\n",
            "-2 \t 0.0\n",
            "-1 \t 0.5\n",
            "0 \t 1.0\n",
            "1 \t 1.5\n",
            "2 \t 2.0\n",
            "3 \t 2.5\n",
            "4 \t 3.0\n",
            "5 \t 3.5\n",
            "6 \t 4.0\n",
            "7 \t 4.5\n",
            "8 \t 5.0\n",
            "9 \t 5.5\n",
            "10 \t 6.0\n"
          ]
        },
        {
          "output_type": "display_data",
          "data": {
            "text/plain": [
              "<Figure size 640x480 with 1 Axes>"
            ],
            "image/png": "[encoded data removed]"
          },
          "metadata": {}
        }
      ]
    },
    {
      "cell_type": "code",
      "source": [
        "import matplotlib.pyplot as plt\n",
        "import numpy as np\n",
        "\n",
        "xmin = -10\n",
        "xmax = 10\n",
        "ymin = -10\n",
        "ymax = 10\n",
        "points = 2*(xmax-xmin)\n",
        "x = np.linspace(xmin, xmax, points)\n",
        "\n",
        "fig, ax = plt.subplots()\n",
        "plt.axis([xmin,xmax,ymin,ymax]) # window size\n",
        "plt.plot([xmin,xmax],[0,0],'b') # blue x axis\n",
        "plt.plot([0,0],[ymin,ymax], 'b') # blue y axis\n",
        "\n",
        "y = 2*x +1\n",
        "plt.plot(x,y, 'pink')\n",
        "\n",
        "plt.show()"
      ],
      "metadata": {
        "colab": {
          "base_uri": "https://localhost:8080/",
          "height": 269
        },
        "id": "16HtjpNAIJOm",
        "outputId": "7c7fe68b-8c5c-4113-cb93-6870662a056c"
      },
      "execution_count": null,
      "outputs": [
        {
          "output_type": "display_data",
          "data": {
            "text/plain": [
              "<Figure size 432x288 with 1 Axes>"
            ],
            "image/png": "[encoded data removed]"
          },
          "metadata": {
            "needs_background": "light"
          }
        }
      ]
    },
    {
      "cell_type": "code",
      "source": [
        "import matplotlib.pyplot as plt\n",
        "import numpy as np\n",
        "\n",
        "xmin = -10\n",
        "xmax = 10\n",
        "ymin = -10\n",
        "ymax = 10\n",
        "points = 2*(xmax-xmin)\n",
        "x = np.linspace(xmin, xmax, points)\n",
        "\n",
        "fig, ax = plt.subplots()\n",
        "plt.axis([xmin,xmax,ymin,ymax]) # window size\n",
        "plt.plot([xmin,xmax],[0,0],'b') # blue x axis\n",
        "plt.plot([0,0],[ymin,ymax], 'b') # blue y axis\n",
        "\n",
        "ax.set_xlabel(\"x values\")\n",
        "ax.set_ylabel(\"y values\")\n",
        "ax.set_title(\"Some Graph\")\n",
        "ax.grid(True)\n",
        "\n",
        "ax.set_xticks(np.arange(xmin, xmax, 1))\n",
        "ax.set_yticks(np.arange(ymin, ymax, 1))\n",
        "\n",
        "y = 2*x +1\n",
        "plt.plot(x,y, label='y=2x+1')\n",
        "plt.plot([4],[6], 'ro', label='point')\n",
        "plt.plot(x,3*x, label='steeper line')\n",
        "plt.legend()\n",
        "plt.show()\n"
      ],
      "metadata": {
        "colab": {
          "base_uri": "https://localhost:8080/",
          "height": 295
        },
        "id": "GLaAeuGxX2DU",
        "outputId": "27278310-8023-4479-9860-e78c94cadfb4"
      },
      "execution_count": null,
      "outputs": [
        {
          "output_type": "display_data",
          "data": {
            "text/plain": [
              "<Figure size 432x288 with 1 Axes>"
            ],
            "image/png": "[encoded data removed]"
          },
          "metadata": {
            "needs_background": "light"
          }
        }
      ]
    },
    {
      "cell_type": "markdown",
      "source": [
        "#week 5"
      ],
      "metadata": {
        "id": "Z8Hk_PKTbMIG"
      }
    },
    {
      "cell_type": "code",
      "source": [
        "x1 = 1\n",
        "y1 = 7\n",
        "x2 = 2\n",
        "y2 = 10\n",
        "\n",
        "slope = (y2 - y1) / (x2 - x1)\n",
        "\n",
        "print(\"slope = \", slope)"
      ],
      "metadata": {
        "id": "2-ceeTFP6aQ7"
      },
      "execution_count": null,
      "outputs": []
    },
    {
      "cell_type": "code",
      "execution_count": null,
      "metadata": {
        "id": "CKVgsCTmKjyw",
        "colab": {
          "base_uri": "https://localhost:8080/"
        },
        "outputId": "6a74166a-ac9d-4d24-cc50-15fbdbfd0378"
      },
      "outputs": [
        {
          "output_type": "stream",
          "name": "stdout",
          "text": [
            "y =  -0.06506849315068493 x +  125.12328767123287\n"
          ]
        }
      ],
      "source": [
        "x1 = 632 #1\n",
        "y1 = 84 #7\n",
        "x2 = 1800 #2\n",
        "y2 = 8 #10\n",
        "\n",
        "# The slope is \"m\"\n",
        "m = (y2 - y1) / (x2 - x1)\n",
        "\n",
        "# The y intercept is \"b\"\n",
        "b = y1 - m*x1\n",
        "\n",
        "# The full equation\n",
        "print(\"y = \", m, \"x + \", b)\n"
      ]
    },
    {
      "cell_type": "code",
      "source": [
        "import matplotlib.pyplot as plt\n",
        "\n",
        "x1 = 2\n",
        "y1 = 3\n",
        "x2 = 6\n",
        "y2 = 8\n",
        "\n",
        "# Develop the equation y = mx + b\n",
        "m = (y2 - y1) / (x2 - x1)\n",
        "b = y1 - m*x1\n",
        "print(\"y = \", m, \"x + \", b)\n",
        "\n",
        "# For the graph\n",
        "xmin = -10\n",
        "xmax = 10\n",
        "ymin = -10\n",
        "ymax = 10\n",
        "\n",
        "# For the line on the graph\n",
        "y3 = m*xmin + b\n",
        "y4 = m*xmax + b\n",
        "\n",
        "# Basic setup for the graph\n",
        "fig, ax = plt.subplots()\n",
        "plt.axis([xmin,xmax,ymin,ymax]) # window size\n",
        "plt.plot([xmin,xmax],[0,0],'b') # blue x axis\n",
        "plt.plot([0,0],[ymin,ymax], 'b') # blue y axis\n",
        "\n",
        "# Plot the linear function as a red line\n",
        "plt.plot([xmin,xmax],[y3,y4],'r')\n",
        "\n",
        "plt.show()\n"
      ],
      "metadata": {
        "id": "4gn7sGDENUZr",
        "colab": {
          "base_uri": "https://localhost:8080/",
          "height": 287
        },
        "outputId": "b51a57a7-53b3-43b8-da1a-9aff93029048"
      },
      "execution_count": null,
      "outputs": [
        {
          "output_type": "stream",
          "name": "stdout",
          "text": [
            "y =  1.25 x +  0.5\n"
          ]
        },
        {
          "output_type": "display_data",
          "data": {
            "text/plain": [
              "<Figure size 432x288 with 1 Axes>"
            ],
            "image/png": "[encoded data removed]"
          },
          "metadata": {
            "needs_background": "light"
          }
        }
      ]
    },
    {
      "cell_type": "markdown",
      "source": [
        "#week 6"
      ],
      "metadata": {
        "id": "2PzNJXw21JM_"
      }
    },
    {
      "cell_type": "code",
      "source": [
        "#simbolo % para obtener residuo\n",
        "print(5%3)"
      ],
      "metadata": {
        "colab": {
          "base_uri": "https://localhost:8080/"
        },
        "id": "1yJL-Tfv1LTj",
        "outputId": "a38ac6f5-c48b-44af-dfad-a1c6adf18940"
      },
      "execution_count": 1,
      "outputs": [
        {
          "output_type": "stream",
          "name": "stdout",
          "text": [
            "2\n"
          ]
        }
      ]
    },
    {
      "cell_type": "code",
      "execution_count": 2,
      "metadata": {
        "id": "w--Zka73nnBA",
        "colab": {
          "base_uri": "https://localhost:8080/"
        },
        "outputId": "c99c9b30-08e0-4840-ab2e-3d93d267f6ad"
      },
      "outputs": [
        {
          "output_type": "stream",
          "name": "stdout",
          "text": [
            "1\n",
            "2\n",
            "3\n",
            "4\n",
            "6\n",
            "12\n"
          ]
        }
      ],
      "source": [
        "number = 12\n",
        "\n",
        "# Find all factors\n",
        "for test_factor in range(1,number+1):\n",
        "    if number%test_factor==0:\n",
        "        print(test_factor)\n"
      ]
    },
    {
      "cell_type": "markdown",
      "source": [
        "##reducir fracciones"
      ],
      "metadata": {
        "id": "6Ee84dmc6sa_"
      }
    },
    {
      "cell_type": "code",
      "source": [
        "numerator = 1344\n",
        "denominator = 2344\n",
        "factor = 1\n",
        "\n",
        "# Find greatest common factor\n",
        "for test_factor in range(1,denominator+1):\n",
        "    if numerator%test_factor==0 and denominator%test_factor==0:\n",
        "        factor = test_factor\n",
        "\n",
        "# Divide out greatest common factor\n",
        "n = int(numerator/factor)\n",
        "d = int(denominator/factor)\n",
        "\n",
        "print(\"original: \", numerator, \"/\", denominator)\n",
        "print(\"reduced: \", n, \"/\", d)\n"
      ],
      "metadata": {
        "id": "6Q01c0zyQd2-",
        "colab": {
          "base_uri": "https://localhost:8080/"
        },
        "outputId": "c5e1c4e0-7a7d-483b-c95a-d71280b38166"
      },
      "execution_count": 5,
      "outputs": [
        {
          "output_type": "stream",
          "name": "stdout",
          "text": [
            "original:  1344 / 2344\n",
            "reduced:  168 / 293\n"
          ]
        }
      ]
    },
    {
      "cell_type": "code",
      "source": [
        "# Get the decimal number to convert\n",
        "digits = input(\"Enter a decimal number to convert: \")\n",
        "\n",
        "# Convert to fraction\n",
        "exponent = int(len(digits))-1\n",
        "n = float(digits)\n",
        "numerator = int(n * 10**exponent)\n",
        "denominator = 10**exponent\n",
        "\n",
        "# Reduce that fraction\n",
        "factor = 1\n",
        "for test_factor in range(1,denominator+1):\n",
        "    if numerator%test_factor==0 and denominator%test_factor==0:\n",
        "        factor = test_factor\n",
        "\n",
        "# Divide out greatest common factor\n",
        "num = int(numerator/factor)\n",
        "den = int(denominator/factor)\n",
        "\n",
        "# Output\n",
        "print(\"The decimal is \", n)\n",
        "print(\"The fraction is \", num, \"/\", den)\n"
      ],
      "metadata": {
        "id": "sCvtP7UCSU8X",
        "colab": {
          "base_uri": "https://localhost:8080/"
        },
        "outputId": "57463078-96f2-462e-819a-15bb6c21f924"
      },
      "execution_count": 9,
      "outputs": [
        {
          "output_type": "stream",
          "name": "stdout",
          "text": [
            "Enter a decimal number to convert: .12\n",
            "The decimal is  0.12\n",
            "The fraction is  3 / 25\n"
          ]
        }
      ]
    },
    {
      "cell_type": "code",
      "source": [
        "import math\n",
        "\n",
        "print(math.sqrt(24))"
      ],
      "metadata": {
        "colab": {
          "base_uri": "https://localhost:8080/"
        },
        "id": "kNFE98JQ7v50",
        "outputId": "a5134399-537d-40bf-a51f-741eecfa5e61"
      },
      "execution_count": 6,
      "outputs": [
        {
          "output_type": "stream",
          "name": "stdout",
          "text": [
            "4.898979485566356\n"
          ]
        }
      ]
    },
    {
      "cell_type": "code",
      "source": [
        "import math\n",
        "\n",
        "# number to factor\n",
        "n = 12\n",
        "\n",
        "# This variable will change\n",
        "max_factor = 1\n",
        "\n",
        "# The key ingredient\n",
        "upper_limit = math.floor(math.sqrt(n)) + 1\n",
        "\n",
        "# Find square factors\n",
        "for maybe_factor in range(1,upper_limit):\n",
        "    if n % (maybe_factor**2) == 0:\n",
        "        max_factor = maybe_factor\n",
        "\n",
        "# Results so far\n",
        "print(\"n = \", n)\n",
        "print(\"Square rooted factor = \", max_factor)\n",
        "print(\"Square factor = \", max_factor**2)\n",
        "print(\"integer: \", n/(max_factor**2))\n"
      ],
      "metadata": {
        "id": "aR-ny0yGWy_5",
        "colab": {
          "base_uri": "https://localhost:8080/"
        },
        "outputId": "e922b865-854d-4950-dc41-2f98bab8cbfa"
      },
      "execution_count": 10,
      "outputs": [
        {
          "output_type": "stream",
          "name": "stdout",
          "text": [
            "n =  12\n",
            "Square rooted factor =  2\n",
            "Square factor =  4\n",
            "integer:  3.0\n"
          ]
        }
      ]
    },
    {
      "cell_type": "code",
      "source": [
        "import math\n",
        "import sympy\n",
        "from sympy import symbols\n",
        "\n",
        "n = 24\n",
        "\n",
        "# Use these variables\n",
        "upper_limit = math.floor(math.sqrt(n)) + 1\n",
        "max_factor = 1\n",
        "other_factor = 1\n",
        "square_root = 1\n",
        "\n",
        "# Slightly different variable strategy\n",
        "for maybe_factor in range(1, upper_limit):\n",
        "    if n % (maybe_factor**2) == 0:\n",
        "        max_factor = maybe_factor**2\n",
        "\n",
        "# Divide out the greatest square factor\n",
        "other_factor = n/max_factor\n",
        "\n",
        "# Output variables\n",
        "square_root = int(math.sqrt(max_factor))\n",
        "other_factor = int(other_factor)\n",
        "output = square_root*sympy.sqrt(other_factor)\n",
        "\n",
        "# Sympy output without print statement - must be last line\n",
        "output"
      ],
      "metadata": {
        "id": "GOGAgeL5aOUn",
        "colab": {
          "base_uri": "https://localhost:8080/",
          "height": 39
        },
        "outputId": "584776e5-e069-432f-dea0-5e85af86a2be"
      },
      "execution_count": 11,
      "outputs": [
        {
          "output_type": "execute_result",
          "data": {
            "text/plain": [
              "2*sqrt(6)"
            ],
            "text/latex": "$\\displaystyle 2 \\sqrt{6}$"
          },
          "metadata": {},
          "execution_count": 11
        }
      ]
    },
    {
      "cell_type": "code",
      "source": [],
      "metadata": {
        "id": "sM8nxxAIRPSm"
      },
      "execution_count": null,
      "outputs": []
    }
  ]
}